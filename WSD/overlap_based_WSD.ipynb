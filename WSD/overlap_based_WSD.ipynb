{
  "nbformat": 4,
  "nbformat_minor": 0,
  "metadata": {
    "colab": {
      "name": "overlap based WSD.ipynb",
      "provenance": [],
      "collapsed_sections": []
    },
    "kernelspec": {
      "name": "python3",
      "display_name": "Python 3"
    },
    "language_info": {
      "name": "python"
    }
  },
  "cells": [
    {
      "cell_type": "code",
      "metadata": {
        "id": "5PfQQUL0_047"
      },
      "source": [
        "from nltk.corpus import semcor\n",
        "import re"
      ],
      "execution_count": null,
      "outputs": []
    },
    {
      "cell_type": "code",
      "metadata": {
        "colab": {
          "base_uri": "https://localhost:8080/"
        },
        "id": "jDnBzI_-_511",
        "outputId": "6b7964ca-1172-4490-9857-299383c5ce55"
      },
      "source": [
        "import nltk\n",
        "nltk.download('semcor')\n",
        "!unzip -o /root/nltk_data/corpora/semcor.zip -d /root/nltk_data/corpora"
      ],
      "execution_count": null,
      "outputs": [
        {
          "output_type": "stream",
          "name": "stdout",
          "text": [
            "[nltk_data] Downloading package semcor to /root/nltk_data...\n",
            "[nltk_data]   Package semcor is already up-to-date!\n",
            "Archive:  /root/nltk_data/corpora/semcor.zip\n",
            "  inflating: /root/nltk_data/corpora/semcor/brown1/tagfiles/br-a01.xml  \n",
            "  inflating: /root/nltk_data/corpora/semcor/brown1/tagfiles/br-a02.xml  \n",
            "  inflating: /root/nltk_data/corpora/semcor/brown1/tagfiles/br-a11.xml  \n",
            "  inflating: /root/nltk_data/corpora/semcor/brown1/tagfiles/br-a12.xml  \n",
            "  inflating: /root/nltk_data/corpora/semcor/brown1/tagfiles/br-a13.xml  \n",
            "  inflating: /root/nltk_data/corpora/semcor/brown1/tagfiles/br-a14.xml  \n",
            "  inflating: /root/nltk_data/corpora/semcor/brown1/tagfiles/br-a15.xml  \n",
            "  inflating: /root/nltk_data/corpora/semcor/brown1/tagfiles/br-b13.xml  \n",
            "  inflating: /root/nltk_data/corpora/semcor/brown1/tagfiles/br-b20.xml  \n",
            "  inflating: /root/nltk_data/corpora/semcor/brown1/tagfiles/br-c01.xml  \n",
            "  inflating: /root/nltk_data/corpora/semcor/brown1/tagfiles/br-c02.xml  \n",
            "  inflating: /root/nltk_data/corpora/semcor/brown1/tagfiles/br-c04.xml  \n",
            "  inflating: /root/nltk_data/corpora/semcor/brown1/tagfiles/br-d01.xml  \n",
            "  inflating: /root/nltk_data/corpora/semcor/brown1/tagfiles/br-d02.xml  \n",
            "  inflating: /root/nltk_data/corpora/semcor/brown1/tagfiles/br-d03.xml  \n",
            "  inflating: /root/nltk_data/corpora/semcor/brown1/tagfiles/br-d04.xml  \n",
            "  inflating: /root/nltk_data/corpora/semcor/brown1/tagfiles/br-e01.xml  \n",
            "  inflating: /root/nltk_data/corpora/semcor/brown1/tagfiles/br-e02.xml  \n",
            "  inflating: /root/nltk_data/corpora/semcor/brown1/tagfiles/br-e04.xml  \n",
            "  inflating: /root/nltk_data/corpora/semcor/brown1/tagfiles/br-e21.xml  \n",
            "  inflating: /root/nltk_data/corpora/semcor/brown1/tagfiles/br-e24.xml  \n",
            "  inflating: /root/nltk_data/corpora/semcor/brown1/tagfiles/br-e29.xml  \n",
            "  inflating: /root/nltk_data/corpora/semcor/brown1/tagfiles/br-f03.xml  \n",
            "  inflating: /root/nltk_data/corpora/semcor/brown1/tagfiles/br-f10.xml  \n",
            "  inflating: /root/nltk_data/corpora/semcor/brown1/tagfiles/br-f19.xml  \n",
            "  inflating: /root/nltk_data/corpora/semcor/brown1/tagfiles/br-f43.xml  \n",
            "  inflating: /root/nltk_data/corpora/semcor/brown1/tagfiles/br-g01.xml  \n",
            "  inflating: /root/nltk_data/corpora/semcor/brown1/tagfiles/br-g11.xml  \n",
            "  inflating: /root/nltk_data/corpora/semcor/brown1/tagfiles/br-g15.xml  \n",
            "  inflating: /root/nltk_data/corpora/semcor/brown1/tagfiles/br-h01.xml  \n",
            "  inflating: /root/nltk_data/corpora/semcor/brown1/tagfiles/br-j01.xml  \n",
            "  inflating: /root/nltk_data/corpora/semcor/brown1/tagfiles/br-j02.xml  \n",
            "  inflating: /root/nltk_data/corpora/semcor/brown1/tagfiles/br-j03.xml  \n",
            "  inflating: /root/nltk_data/corpora/semcor/brown1/tagfiles/br-j04.xml  \n",
            "  inflating: /root/nltk_data/corpora/semcor/brown1/tagfiles/br-j05.xml  \n",
            "  inflating: /root/nltk_data/corpora/semcor/brown1/tagfiles/br-j06.xml  \n",
            "  inflating: /root/nltk_data/corpora/semcor/brown1/tagfiles/br-j07.xml  \n",
            "  inflating: /root/nltk_data/corpora/semcor/brown1/tagfiles/br-j08.xml  \n",
            "  inflating: /root/nltk_data/corpora/semcor/brown1/tagfiles/br-j09.xml  \n",
            "  inflating: /root/nltk_data/corpora/semcor/brown1/tagfiles/br-j10.xml  \n",
            "  inflating: /root/nltk_data/corpora/semcor/brown1/tagfiles/br-j11.xml  \n",
            "  inflating: /root/nltk_data/corpora/semcor/brown1/tagfiles/br-j12.xml  \n",
            "  inflating: /root/nltk_data/corpora/semcor/brown1/tagfiles/br-j13.xml  \n",
            "  inflating: /root/nltk_data/corpora/semcor/brown1/tagfiles/br-j14.xml  \n",
            "  inflating: /root/nltk_data/corpora/semcor/brown1/tagfiles/br-j15.xml  \n",
            "  inflating: /root/nltk_data/corpora/semcor/brown1/tagfiles/br-j16.xml  \n",
            "  inflating: /root/nltk_data/corpora/semcor/brown1/tagfiles/br-j17.xml  \n",
            "  inflating: /root/nltk_data/corpora/semcor/brown1/tagfiles/br-j18.xml  \n",
            "  inflating: /root/nltk_data/corpora/semcor/brown1/tagfiles/br-j19.xml  \n",
            "  inflating: /root/nltk_data/corpora/semcor/brown1/tagfiles/br-j20.xml  \n",
            "  inflating: /root/nltk_data/corpora/semcor/brown1/tagfiles/br-j22.xml  \n",
            "  inflating: /root/nltk_data/corpora/semcor/brown1/tagfiles/br-j23.xml  \n",
            "  inflating: /root/nltk_data/corpora/semcor/brown1/tagfiles/br-j37.xml  \n",
            "  inflating: /root/nltk_data/corpora/semcor/brown1/tagfiles/br-j52.xml  \n",
            "  inflating: /root/nltk_data/corpora/semcor/brown1/tagfiles/br-j53.xml  \n",
            "  inflating: /root/nltk_data/corpora/semcor/brown1/tagfiles/br-j54.xml  \n",
            "  inflating: /root/nltk_data/corpora/semcor/brown1/tagfiles/br-j55.xml  \n",
            "  inflating: /root/nltk_data/corpora/semcor/brown1/tagfiles/br-j56.xml  \n",
            "  inflating: /root/nltk_data/corpora/semcor/brown1/tagfiles/br-j57.xml  \n",
            "  inflating: /root/nltk_data/corpora/semcor/brown1/tagfiles/br-j58.xml  \n",
            "  inflating: /root/nltk_data/corpora/semcor/brown1/tagfiles/br-j59.xml  \n",
            "  inflating: /root/nltk_data/corpora/semcor/brown1/tagfiles/br-j60.xml  \n",
            "  inflating: /root/nltk_data/corpora/semcor/brown1/tagfiles/br-j70.xml  \n",
            "  inflating: /root/nltk_data/corpora/semcor/brown1/tagfiles/br-k01.xml  \n",
            "  inflating: /root/nltk_data/corpora/semcor/brown1/tagfiles/br-k02.xml  \n",
            "  inflating: /root/nltk_data/corpora/semcor/brown1/tagfiles/br-k03.xml  \n",
            "  inflating: /root/nltk_data/corpora/semcor/brown1/tagfiles/br-k04.xml  \n",
            "  inflating: /root/nltk_data/corpora/semcor/brown1/tagfiles/br-k05.xml  \n",
            "  inflating: /root/nltk_data/corpora/semcor/brown1/tagfiles/br-k06.xml  \n",
            "  inflating: /root/nltk_data/corpora/semcor/brown1/tagfiles/br-k07.xml  \n",
            "  inflating: /root/nltk_data/corpora/semcor/brown1/tagfiles/br-k08.xml  \n",
            "  inflating: /root/nltk_data/corpora/semcor/brown1/tagfiles/br-k09.xml  \n",
            "  inflating: /root/nltk_data/corpora/semcor/brown1/tagfiles/br-k10.xml  \n",
            "  inflating: /root/nltk_data/corpora/semcor/brown1/tagfiles/br-k11.xml  \n",
            "  inflating: /root/nltk_data/corpora/semcor/brown1/tagfiles/br-k12.xml  \n",
            "  inflating: /root/nltk_data/corpora/semcor/brown1/tagfiles/br-k13.xml  \n",
            "  inflating: /root/nltk_data/corpora/semcor/brown1/tagfiles/br-k14.xml  \n",
            "  inflating: /root/nltk_data/corpora/semcor/brown1/tagfiles/br-k15.xml  \n",
            "  inflating: /root/nltk_data/corpora/semcor/brown1/tagfiles/br-k16.xml  \n",
            "  inflating: /root/nltk_data/corpora/semcor/brown1/tagfiles/br-k17.xml  \n",
            "  inflating: /root/nltk_data/corpora/semcor/brown1/tagfiles/br-k18.xml  \n",
            "  inflating: /root/nltk_data/corpora/semcor/brown1/tagfiles/br-k19.xml  \n",
            "  inflating: /root/nltk_data/corpora/semcor/brown1/tagfiles/br-k20.xml  \n",
            "  inflating: /root/nltk_data/corpora/semcor/brown1/tagfiles/br-k21.xml  \n",
            "  inflating: /root/nltk_data/corpora/semcor/brown1/tagfiles/br-k22.xml  \n",
            "  inflating: /root/nltk_data/corpora/semcor/brown1/tagfiles/br-k23.xml  \n",
            "  inflating: /root/nltk_data/corpora/semcor/brown1/tagfiles/br-k24.xml  \n",
            "  inflating: /root/nltk_data/corpora/semcor/brown1/tagfiles/br-k25.xml  \n",
            "  inflating: /root/nltk_data/corpora/semcor/brown1/tagfiles/br-k26.xml  \n",
            "  inflating: /root/nltk_data/corpora/semcor/brown1/tagfiles/br-k27.xml  \n",
            "  inflating: /root/nltk_data/corpora/semcor/brown1/tagfiles/br-k28.xml  \n",
            "  inflating: /root/nltk_data/corpora/semcor/brown1/tagfiles/br-k29.xml  \n",
            "  inflating: /root/nltk_data/corpora/semcor/brown1/tagfiles/br-l11.xml  \n",
            "  inflating: /root/nltk_data/corpora/semcor/brown1/tagfiles/br-l12.xml  \n",
            "  inflating: /root/nltk_data/corpora/semcor/brown1/tagfiles/br-m01.xml  \n",
            "  inflating: /root/nltk_data/corpora/semcor/brown1/tagfiles/br-m02.xml  \n",
            "  inflating: /root/nltk_data/corpora/semcor/brown1/tagfiles/br-n05.xml  \n",
            "  inflating: /root/nltk_data/corpora/semcor/brown1/tagfiles/br-p01.xml  \n",
            "  inflating: /root/nltk_data/corpora/semcor/brown1/tagfiles/br-r05.xml  \n",
            "  inflating: /root/nltk_data/corpora/semcor/brown1/tagfiles/br-r06.xml  \n",
            "  inflating: /root/nltk_data/corpora/semcor/brown1/tagfiles/br-r07.xml  \n",
            "  inflating: /root/nltk_data/corpora/semcor/brown1/tagfiles/br-r08.xml  \n",
            "  inflating: /root/nltk_data/corpora/semcor/brown1/tagfiles/br-r09.xml  \n",
            "  inflating: /root/nltk_data/corpora/semcor/brown2/tagfiles/br-e22.xml  \n",
            "  inflating: /root/nltk_data/corpora/semcor/brown2/tagfiles/br-e23.xml  \n",
            "  inflating: /root/nltk_data/corpora/semcor/brown2/tagfiles/br-e25.xml  \n",
            "  inflating: /root/nltk_data/corpora/semcor/brown2/tagfiles/br-e26.xml  \n",
            "  inflating: /root/nltk_data/corpora/semcor/brown2/tagfiles/br-e27.xml  \n",
            "  inflating: /root/nltk_data/corpora/semcor/brown2/tagfiles/br-e28.xml  \n",
            "  inflating: /root/nltk_data/corpora/semcor/brown2/tagfiles/br-e30.xml  \n",
            "  inflating: /root/nltk_data/corpora/semcor/brown2/tagfiles/br-e31.xml  \n",
            "  inflating: /root/nltk_data/corpora/semcor/brown2/tagfiles/br-f08.xml  \n",
            "  inflating: /root/nltk_data/corpora/semcor/brown2/tagfiles/br-f13.xml  \n",
            "  inflating: /root/nltk_data/corpora/semcor/brown2/tagfiles/br-f14.xml  \n",
            "  inflating: /root/nltk_data/corpora/semcor/brown2/tagfiles/br-f15.xml  \n",
            "  inflating: /root/nltk_data/corpora/semcor/brown2/tagfiles/br-f16.xml  \n",
            "  inflating: /root/nltk_data/corpora/semcor/brown2/tagfiles/br-f17.xml  \n",
            "  inflating: /root/nltk_data/corpora/semcor/brown2/tagfiles/br-f18.xml  \n",
            "  inflating: /root/nltk_data/corpora/semcor/brown2/tagfiles/br-f20.xml  \n",
            "  inflating: /root/nltk_data/corpora/semcor/brown2/tagfiles/br-f21.xml  \n",
            "  inflating: /root/nltk_data/corpora/semcor/brown2/tagfiles/br-f22.xml  \n",
            "  inflating: /root/nltk_data/corpora/semcor/brown2/tagfiles/br-f23.xml  \n",
            "  inflating: /root/nltk_data/corpora/semcor/brown2/tagfiles/br-f24.xml  \n",
            "  inflating: /root/nltk_data/corpora/semcor/brown2/tagfiles/br-f25.xml  \n",
            "  inflating: /root/nltk_data/corpora/semcor/brown2/tagfiles/br-f33.xml  \n",
            "  inflating: /root/nltk_data/corpora/semcor/brown2/tagfiles/br-f44.xml  \n",
            "  inflating: /root/nltk_data/corpora/semcor/brown2/tagfiles/br-g12.xml  \n",
            "  inflating: /root/nltk_data/corpora/semcor/brown2/tagfiles/br-g14.xml  \n",
            "  inflating: /root/nltk_data/corpora/semcor/brown2/tagfiles/br-g16.xml  \n",
            "  inflating: /root/nltk_data/corpora/semcor/brown2/tagfiles/br-g17.xml  \n",
            "  inflating: /root/nltk_data/corpora/semcor/brown2/tagfiles/br-g18.xml  \n",
            "  inflating: /root/nltk_data/corpora/semcor/brown2/tagfiles/br-g19.xml  \n",
            "  inflating: /root/nltk_data/corpora/semcor/brown2/tagfiles/br-g20.xml  \n",
            "  inflating: /root/nltk_data/corpora/semcor/brown2/tagfiles/br-g21.xml  \n",
            "  inflating: /root/nltk_data/corpora/semcor/brown2/tagfiles/br-g22.xml  \n",
            "  inflating: /root/nltk_data/corpora/semcor/brown2/tagfiles/br-g23.xml  \n",
            "  inflating: /root/nltk_data/corpora/semcor/brown2/tagfiles/br-g28.xml  \n",
            "  inflating: /root/nltk_data/corpora/semcor/brown2/tagfiles/br-g31.xml  \n",
            "  inflating: /root/nltk_data/corpora/semcor/brown2/tagfiles/br-g39.xml  \n",
            "  inflating: /root/nltk_data/corpora/semcor/brown2/tagfiles/br-g43.xml  \n",
            "  inflating: /root/nltk_data/corpora/semcor/brown2/tagfiles/br-g44.xml  \n",
            "  inflating: /root/nltk_data/corpora/semcor/brown2/tagfiles/br-h09.xml  \n",
            "  inflating: /root/nltk_data/corpora/semcor/brown2/tagfiles/br-h11.xml  \n",
            "  inflating: /root/nltk_data/corpora/semcor/brown2/tagfiles/br-h12.xml  \n",
            "  inflating: /root/nltk_data/corpora/semcor/brown2/tagfiles/br-h13.xml  \n",
            "  inflating: /root/nltk_data/corpora/semcor/brown2/tagfiles/br-h14.xml  \n",
            "  inflating: /root/nltk_data/corpora/semcor/brown2/tagfiles/br-h15.xml  \n",
            "  inflating: /root/nltk_data/corpora/semcor/brown2/tagfiles/br-h16.xml  \n",
            "  inflating: /root/nltk_data/corpora/semcor/brown2/tagfiles/br-h17.xml  \n",
            "  inflating: /root/nltk_data/corpora/semcor/brown2/tagfiles/br-h18.xml  \n",
            "  inflating: /root/nltk_data/corpora/semcor/brown2/tagfiles/br-h21.xml  \n",
            "  inflating: /root/nltk_data/corpora/semcor/brown2/tagfiles/br-h24.xml  \n",
            "  inflating: /root/nltk_data/corpora/semcor/brown2/tagfiles/br-j29.xml  \n",
            "  inflating: /root/nltk_data/corpora/semcor/brown2/tagfiles/br-j30.xml  \n",
            "  inflating: /root/nltk_data/corpora/semcor/brown2/tagfiles/br-j31.xml  \n",
            "  inflating: /root/nltk_data/corpora/semcor/brown2/tagfiles/br-j32.xml  \n",
            "  inflating: /root/nltk_data/corpora/semcor/brown2/tagfiles/br-j33.xml  \n",
            "  inflating: /root/nltk_data/corpora/semcor/brown2/tagfiles/br-j34.xml  \n",
            "  inflating: /root/nltk_data/corpora/semcor/brown2/tagfiles/br-j35.xml  \n",
            "  inflating: /root/nltk_data/corpora/semcor/brown2/tagfiles/br-j38.xml  \n",
            "  inflating: /root/nltk_data/corpora/semcor/brown2/tagfiles/br-j41.xml  \n",
            "  inflating: /root/nltk_data/corpora/semcor/brown2/tagfiles/br-j42.xml  \n",
            "  inflating: /root/nltk_data/corpora/semcor/brown2/tagfiles/br-l08.xml  \n",
            "  inflating: /root/nltk_data/corpora/semcor/brown2/tagfiles/br-l09.xml  \n",
            "  inflating: /root/nltk_data/corpora/semcor/brown2/tagfiles/br-l10.xml  \n",
            "  inflating: /root/nltk_data/corpora/semcor/brown2/tagfiles/br-l13.xml  \n",
            "  inflating: /root/nltk_data/corpora/semcor/brown2/tagfiles/br-l14.xml  \n",
            "  inflating: /root/nltk_data/corpora/semcor/brown2/tagfiles/br-l15.xml  \n",
            "  inflating: /root/nltk_data/corpora/semcor/brown2/tagfiles/br-l16.xml  \n",
            "  inflating: /root/nltk_data/corpora/semcor/brown2/tagfiles/br-l17.xml  \n",
            "  inflating: /root/nltk_data/corpora/semcor/brown2/tagfiles/br-l18.xml  \n",
            "  inflating: /root/nltk_data/corpora/semcor/brown2/tagfiles/br-n09.xml  \n",
            "  inflating: /root/nltk_data/corpora/semcor/brown2/tagfiles/br-n10.xml  \n",
            "  inflating: /root/nltk_data/corpora/semcor/brown2/tagfiles/br-n11.xml  \n",
            "  inflating: /root/nltk_data/corpora/semcor/brown2/tagfiles/br-n12.xml  \n",
            "  inflating: /root/nltk_data/corpora/semcor/brown2/tagfiles/br-n14.xml  \n",
            "  inflating: /root/nltk_data/corpora/semcor/brown2/tagfiles/br-n15.xml  \n",
            "  inflating: /root/nltk_data/corpora/semcor/brown2/tagfiles/br-n16.xml  \n",
            "  inflating: /root/nltk_data/corpora/semcor/brown2/tagfiles/br-n17.xml  \n",
            "  inflating: /root/nltk_data/corpora/semcor/brown2/tagfiles/br-n20.xml  \n",
            "  inflating: /root/nltk_data/corpora/semcor/brown2/tagfiles/br-p07.xml  \n",
            "  inflating: /root/nltk_data/corpora/semcor/brown2/tagfiles/br-p09.xml  \n",
            "  inflating: /root/nltk_data/corpora/semcor/brown2/tagfiles/br-p10.xml  \n",
            "  inflating: /root/nltk_data/corpora/semcor/brown2/tagfiles/br-p12.xml  \n",
            "  inflating: /root/nltk_data/corpora/semcor/brown2/tagfiles/br-p24.xml  \n",
            "  inflating: /root/nltk_data/corpora/semcor/brown2/tagfiles/br-r04.xml  \n",
            "  inflating: /root/nltk_data/corpora/semcor/brownv/tagfiles/br-a03.xml  \n",
            "  inflating: /root/nltk_data/corpora/semcor/brownv/tagfiles/br-a04.xml  \n",
            "  inflating: /root/nltk_data/corpora/semcor/brownv/tagfiles/br-a05.xml  \n",
            "  inflating: /root/nltk_data/corpora/semcor/brownv/tagfiles/br-a06.xml  \n",
            "  inflating: /root/nltk_data/corpora/semcor/brownv/tagfiles/br-a07.xml  \n",
            "  inflating: /root/nltk_data/corpora/semcor/brownv/tagfiles/br-a08.xml  \n",
            "  inflating: /root/nltk_data/corpora/semcor/brownv/tagfiles/br-a09.xml  \n",
            "  inflating: /root/nltk_data/corpora/semcor/brownv/tagfiles/br-a10.xml  \n",
            "  inflating: /root/nltk_data/corpora/semcor/brownv/tagfiles/br-a16.xml  \n",
            "  inflating: /root/nltk_data/corpora/semcor/brownv/tagfiles/br-a17.xml  \n",
            "  inflating: /root/nltk_data/corpora/semcor/brownv/tagfiles/br-a18.xml  \n",
            "  inflating: /root/nltk_data/corpora/semcor/brownv/tagfiles/br-a19.xml  \n",
            "  inflating: /root/nltk_data/corpora/semcor/brownv/tagfiles/br-a20.xml  \n",
            "  inflating: /root/nltk_data/corpora/semcor/brownv/tagfiles/br-a21.xml  \n",
            "  inflating: /root/nltk_data/corpora/semcor/brownv/tagfiles/br-a22.xml  \n",
            "  inflating: /root/nltk_data/corpora/semcor/brownv/tagfiles/br-a23.xml  \n",
            "  inflating: /root/nltk_data/corpora/semcor/brownv/tagfiles/br-a24.xml  \n",
            "  inflating: /root/nltk_data/corpora/semcor/brownv/tagfiles/br-a25.xml  \n",
            "  inflating: /root/nltk_data/corpora/semcor/brownv/tagfiles/br-a26.xml  \n",
            "  inflating: /root/nltk_data/corpora/semcor/brownv/tagfiles/br-a27.xml  \n",
            "  inflating: /root/nltk_data/corpora/semcor/brownv/tagfiles/br-a28.xml  \n",
            "  inflating: /root/nltk_data/corpora/semcor/brownv/tagfiles/br-a29.xml  \n",
            "  inflating: /root/nltk_data/corpora/semcor/brownv/tagfiles/br-a30.xml  \n",
            "  inflating: /root/nltk_data/corpora/semcor/brownv/tagfiles/br-a31.xml  \n",
            "  inflating: /root/nltk_data/corpora/semcor/brownv/tagfiles/br-a32.xml  \n",
            "  inflating: /root/nltk_data/corpora/semcor/brownv/tagfiles/br-a33.xml  \n",
            "  inflating: /root/nltk_data/corpora/semcor/brownv/tagfiles/br-a34.xml  \n",
            "  inflating: /root/nltk_data/corpora/semcor/brownv/tagfiles/br-a35.xml  \n",
            "  inflating: /root/nltk_data/corpora/semcor/brownv/tagfiles/br-a36.xml  \n",
            "  inflating: /root/nltk_data/corpora/semcor/brownv/tagfiles/br-a37.xml  \n",
            "  inflating: /root/nltk_data/corpora/semcor/brownv/tagfiles/br-a38.xml  \n",
            "  inflating: /root/nltk_data/corpora/semcor/brownv/tagfiles/br-a39.xml  \n",
            "  inflating: /root/nltk_data/corpora/semcor/brownv/tagfiles/br-a40.xml  \n",
            "  inflating: /root/nltk_data/corpora/semcor/brownv/tagfiles/br-a41.xml  \n",
            "  inflating: /root/nltk_data/corpora/semcor/brownv/tagfiles/br-a42.xml  \n",
            "  inflating: /root/nltk_data/corpora/semcor/brownv/tagfiles/br-a43.xml  \n",
            "  inflating: /root/nltk_data/corpora/semcor/brownv/tagfiles/br-a44.xml  \n",
            "  inflating: /root/nltk_data/corpora/semcor/brownv/tagfiles/br-b01.xml  \n",
            "  inflating: /root/nltk_data/corpora/semcor/brownv/tagfiles/br-b02.xml  \n",
            "  inflating: /root/nltk_data/corpora/semcor/brownv/tagfiles/br-b03.xml  \n",
            "  inflating: /root/nltk_data/corpora/semcor/brownv/tagfiles/br-b04.xml  \n",
            "  inflating: /root/nltk_data/corpora/semcor/brownv/tagfiles/br-b05.xml  \n",
            "  inflating: /root/nltk_data/corpora/semcor/brownv/tagfiles/br-b06.xml  \n",
            "  inflating: /root/nltk_data/corpora/semcor/brownv/tagfiles/br-b07.xml  \n",
            "  inflating: /root/nltk_data/corpora/semcor/brownv/tagfiles/br-b08.xml  \n",
            "  inflating: /root/nltk_data/corpora/semcor/brownv/tagfiles/br-b09.xml  \n",
            "  inflating: /root/nltk_data/corpora/semcor/brownv/tagfiles/br-b10.xml  \n",
            "  inflating: /root/nltk_data/corpora/semcor/brownv/tagfiles/br-b11.xml  \n",
            "  inflating: /root/nltk_data/corpora/semcor/brownv/tagfiles/br-b12.xml  \n",
            "  inflating: /root/nltk_data/corpora/semcor/brownv/tagfiles/br-b14.xml  \n",
            "  inflating: /root/nltk_data/corpora/semcor/brownv/tagfiles/br-b15.xml  \n",
            "  inflating: /root/nltk_data/corpora/semcor/brownv/tagfiles/br-b16.xml  \n",
            "  inflating: /root/nltk_data/corpora/semcor/brownv/tagfiles/br-b17.xml  \n",
            "  inflating: /root/nltk_data/corpora/semcor/brownv/tagfiles/br-b18.xml  \n",
            "  inflating: /root/nltk_data/corpora/semcor/brownv/tagfiles/br-b19.xml  \n",
            "  inflating: /root/nltk_data/corpora/semcor/brownv/tagfiles/br-b21.xml  \n",
            "  inflating: /root/nltk_data/corpora/semcor/brownv/tagfiles/br-b22.xml  \n",
            "  inflating: /root/nltk_data/corpora/semcor/brownv/tagfiles/br-b23.xml  \n",
            "  inflating: /root/nltk_data/corpora/semcor/brownv/tagfiles/br-b24.xml  \n",
            "  inflating: /root/nltk_data/corpora/semcor/brownv/tagfiles/br-b25.xml  \n",
            "  inflating: /root/nltk_data/corpora/semcor/brownv/tagfiles/br-b26.xml  \n",
            "  inflating: /root/nltk_data/corpora/semcor/brownv/tagfiles/br-b27.xml  \n",
            "  inflating: /root/nltk_data/corpora/semcor/brownv/tagfiles/br-c03.xml  \n",
            "  inflating: /root/nltk_data/corpora/semcor/brownv/tagfiles/br-c05.xml  \n",
            "  inflating: /root/nltk_data/corpora/semcor/brownv/tagfiles/br-c06.xml  \n",
            "  inflating: /root/nltk_data/corpora/semcor/brownv/tagfiles/br-c07.xml  \n",
            "  inflating: /root/nltk_data/corpora/semcor/brownv/tagfiles/br-c08.xml  \n",
            "  inflating: /root/nltk_data/corpora/semcor/brownv/tagfiles/br-c09.xml  \n",
            "  inflating: /root/nltk_data/corpora/semcor/brownv/tagfiles/br-c10.xml  \n",
            "  inflating: /root/nltk_data/corpora/semcor/brownv/tagfiles/br-c11.xml  \n",
            "  inflating: /root/nltk_data/corpora/semcor/brownv/tagfiles/br-c12.xml  \n",
            "  inflating: /root/nltk_data/corpora/semcor/brownv/tagfiles/br-c13.xml  \n",
            "  inflating: /root/nltk_data/corpora/semcor/brownv/tagfiles/br-c14.xml  \n",
            "  inflating: /root/nltk_data/corpora/semcor/brownv/tagfiles/br-c15.xml  \n",
            "  inflating: /root/nltk_data/corpora/semcor/brownv/tagfiles/br-c16.xml  \n",
            "  inflating: /root/nltk_data/corpora/semcor/brownv/tagfiles/br-c17.xml  \n",
            "  inflating: /root/nltk_data/corpora/semcor/brownv/tagfiles/br-d05.xml  \n",
            "  inflating: /root/nltk_data/corpora/semcor/brownv/tagfiles/br-d06.xml  \n",
            "  inflating: /root/nltk_data/corpora/semcor/brownv/tagfiles/br-d07.xml  \n",
            "  inflating: /root/nltk_data/corpora/semcor/brownv/tagfiles/br-d08.xml  \n",
            "  inflating: /root/nltk_data/corpora/semcor/brownv/tagfiles/br-d09.xml  \n",
            "  inflating: /root/nltk_data/corpora/semcor/brownv/tagfiles/br-d10.xml  \n",
            "  inflating: /root/nltk_data/corpora/semcor/brownv/tagfiles/br-d11.xml  \n",
            "  inflating: /root/nltk_data/corpora/semcor/brownv/tagfiles/br-d12.xml  \n",
            "  inflating: /root/nltk_data/corpora/semcor/brownv/tagfiles/br-d13.xml  \n",
            "  inflating: /root/nltk_data/corpora/semcor/brownv/tagfiles/br-d14.xml  \n",
            "  inflating: /root/nltk_data/corpora/semcor/brownv/tagfiles/br-d15.xml  \n",
            "  inflating: /root/nltk_data/corpora/semcor/brownv/tagfiles/br-d16.xml  \n",
            "  inflating: /root/nltk_data/corpora/semcor/brownv/tagfiles/br-d17.xml  \n",
            "  inflating: /root/nltk_data/corpora/semcor/brownv/tagfiles/br-e03.xml  \n",
            "  inflating: /root/nltk_data/corpora/semcor/brownv/tagfiles/br-e05.xml  \n",
            "  inflating: /root/nltk_data/corpora/semcor/brownv/tagfiles/br-e06.xml  \n",
            "  inflating: /root/nltk_data/corpora/semcor/brownv/tagfiles/br-e07.xml  \n",
            "  inflating: /root/nltk_data/corpora/semcor/brownv/tagfiles/br-e08.xml  \n",
            "  inflating: /root/nltk_data/corpora/semcor/brownv/tagfiles/br-e09.xml  \n",
            "  inflating: /root/nltk_data/corpora/semcor/brownv/tagfiles/br-e10.xml  \n",
            "  inflating: /root/nltk_data/corpora/semcor/brownv/tagfiles/br-e11.xml  \n",
            "  inflating: /root/nltk_data/corpora/semcor/brownv/tagfiles/br-e12.xml  \n",
            "  inflating: /root/nltk_data/corpora/semcor/brownv/tagfiles/br-e13.xml  \n",
            "  inflating: /root/nltk_data/corpora/semcor/brownv/tagfiles/br-e14.xml  \n",
            "  inflating: /root/nltk_data/corpora/semcor/brownv/tagfiles/br-e15.xml  \n",
            "  inflating: /root/nltk_data/corpora/semcor/brownv/tagfiles/br-e16.xml  \n",
            "  inflating: /root/nltk_data/corpora/semcor/brownv/tagfiles/br-e17.xml  \n",
            "  inflating: /root/nltk_data/corpora/semcor/brownv/tagfiles/br-e18.xml  \n",
            "  inflating: /root/nltk_data/corpora/semcor/brownv/tagfiles/br-e19.xml  \n",
            "  inflating: /root/nltk_data/corpora/semcor/brownv/tagfiles/br-e20.xml  \n",
            "  inflating: /root/nltk_data/corpora/semcor/brownv/tagfiles/br-f01.xml  \n",
            "  inflating: /root/nltk_data/corpora/semcor/brownv/tagfiles/br-f02.xml  \n",
            "  inflating: /root/nltk_data/corpora/semcor/brownv/tagfiles/br-f04.xml  \n",
            "  inflating: /root/nltk_data/corpora/semcor/brownv/tagfiles/br-f05.xml  \n",
            "  inflating: /root/nltk_data/corpora/semcor/brownv/tagfiles/br-f06.xml  \n",
            "  inflating: /root/nltk_data/corpora/semcor/brownv/tagfiles/br-f07.xml  \n",
            "  inflating: /root/nltk_data/corpora/semcor/brownv/tagfiles/br-f09.xml  \n",
            "  inflating: /root/nltk_data/corpora/semcor/brownv/tagfiles/br-f11.xml  \n",
            "  inflating: /root/nltk_data/corpora/semcor/brownv/tagfiles/br-f12.xml  \n",
            "  inflating: /root/nltk_data/corpora/semcor/brownv/tagfiles/br-g02.xml  \n",
            "  inflating: /root/nltk_data/corpora/semcor/brownv/tagfiles/br-g03.xml  \n",
            "  inflating: /root/nltk_data/corpora/semcor/brownv/tagfiles/br-g04.xml  \n",
            "  inflating: /root/nltk_data/corpora/semcor/brownv/tagfiles/br-g05.xml  \n",
            "  inflating: /root/nltk_data/corpora/semcor/brownv/tagfiles/br-g06.xml  \n",
            "  inflating: /root/nltk_data/corpora/semcor/brownv/tagfiles/br-g07.xml  \n",
            "  inflating: /root/nltk_data/corpora/semcor/brownv/tagfiles/br-g08.xml  \n",
            "  inflating: /root/nltk_data/corpora/semcor/brownv/tagfiles/br-g09.xml  \n",
            "  inflating: /root/nltk_data/corpora/semcor/brownv/tagfiles/br-g10.xml  \n",
            "  inflating: /root/nltk_data/corpora/semcor/brownv/tagfiles/br-g13.xml  \n",
            "  inflating: /root/nltk_data/corpora/semcor/brownv/tagfiles/br-h02.xml  \n",
            "  inflating: /root/nltk_data/corpora/semcor/brownv/tagfiles/br-h03.xml  \n",
            "  inflating: /root/nltk_data/corpora/semcor/brownv/tagfiles/br-h04.xml  \n",
            "  inflating: /root/nltk_data/corpora/semcor/brownv/tagfiles/br-h05.xml  \n",
            "  inflating: /root/nltk_data/corpora/semcor/brownv/tagfiles/br-h06.xml  \n",
            "  inflating: /root/nltk_data/corpora/semcor/brownv/tagfiles/br-h07.xml  \n",
            "  inflating: /root/nltk_data/corpora/semcor/brownv/tagfiles/br-h08.xml  \n",
            "  inflating: /root/nltk_data/corpora/semcor/brownv/tagfiles/br-h10.xml  \n",
            "  inflating: /root/nltk_data/corpora/semcor/brownv/tagfiles/br-j21.xml  \n",
            "  inflating: /root/nltk_data/corpora/semcor/brownv/tagfiles/br-j24.xml  \n",
            "  inflating: /root/nltk_data/corpora/semcor/brownv/tagfiles/br-j25.xml  \n",
            "  inflating: /root/nltk_data/corpora/semcor/brownv/tagfiles/br-j26.xml  \n",
            "  inflating: /root/nltk_data/corpora/semcor/brownv/tagfiles/br-j27.xml  \n",
            "  inflating: /root/nltk_data/corpora/semcor/brownv/tagfiles/br-j28.xml  \n",
            "  inflating: /root/nltk_data/corpora/semcor/brownv/tagfiles/br-l01.xml  \n",
            "  inflating: /root/nltk_data/corpora/semcor/brownv/tagfiles/br-l02.xml  \n",
            "  inflating: /root/nltk_data/corpora/semcor/brownv/tagfiles/br-l03.xml  \n",
            "  inflating: /root/nltk_data/corpora/semcor/brownv/tagfiles/br-l04.xml  \n",
            "  inflating: /root/nltk_data/corpora/semcor/brownv/tagfiles/br-l05.xml  \n",
            "  inflating: /root/nltk_data/corpora/semcor/brownv/tagfiles/br-l06.xml  \n",
            "  inflating: /root/nltk_data/corpora/semcor/brownv/tagfiles/br-l07.xml  \n",
            "  inflating: /root/nltk_data/corpora/semcor/brownv/tagfiles/br-m03.xml  \n",
            "  inflating: /root/nltk_data/corpora/semcor/brownv/tagfiles/br-m04.xml  \n",
            "  inflating: /root/nltk_data/corpora/semcor/brownv/tagfiles/br-m05.xml  \n",
            "  inflating: /root/nltk_data/corpora/semcor/brownv/tagfiles/br-m06.xml  \n",
            "  inflating: /root/nltk_data/corpora/semcor/brownv/tagfiles/br-n01.xml  \n",
            "  inflating: /root/nltk_data/corpora/semcor/brownv/tagfiles/br-n02.xml  \n",
            "  inflating: /root/nltk_data/corpora/semcor/brownv/tagfiles/br-n03.xml  \n",
            "  inflating: /root/nltk_data/corpora/semcor/brownv/tagfiles/br-n04.xml  \n",
            "  inflating: /root/nltk_data/corpora/semcor/brownv/tagfiles/br-n06.xml  \n",
            "  inflating: /root/nltk_data/corpora/semcor/brownv/tagfiles/br-n07.xml  \n",
            "  inflating: /root/nltk_data/corpora/semcor/brownv/tagfiles/br-n08.xml  \n",
            "  inflating: /root/nltk_data/corpora/semcor/brownv/tagfiles/br-p02.xml  \n",
            "  inflating: /root/nltk_data/corpora/semcor/brownv/tagfiles/br-p03.xml  \n",
            "  inflating: /root/nltk_data/corpora/semcor/brownv/tagfiles/br-p04.xml  \n",
            "  inflating: /root/nltk_data/corpora/semcor/brownv/tagfiles/br-p05.xml  \n",
            "  inflating: /root/nltk_data/corpora/semcor/brownv/tagfiles/br-p06.xml  \n",
            "  inflating: /root/nltk_data/corpora/semcor/brownv/tagfiles/br-p08.xml  \n",
            "  inflating: /root/nltk_data/corpora/semcor/brownv/tagfiles/br-r01.xml  \n",
            "  inflating: /root/nltk_data/corpora/semcor/brownv/tagfiles/br-r02.xml  \n",
            "  inflating: /root/nltk_data/corpora/semcor/brownv/tagfiles/br-r03.xml  \n",
            "  inflating: /root/nltk_data/corpora/semcor/INSTALL  \n",
            "  inflating: /root/nltk_data/corpora/semcor/LICENSE  \n",
            "  inflating: /root/nltk_data/corpora/semcor/README  \n",
            "  inflating: /root/nltk_data/corpora/semcor/semcor.py  \n"
          ]
        }
      ]
    },
    {
      "cell_type": "code",
      "metadata": {
        "id": "swkXOwSdUPsp"
      },
      "source": [
        "import numpy as np\n",
        "\n",
        "def get_context_embedding(sentence): #sentences = semcor.sents()\n",
        "  sum = np.zeros(300,)\n",
        "  no_of_words = 0\n",
        "\n",
        "  for word in sentence:\n",
        "    try:\n",
        "      sum = sum + model_w2v[word]\n",
        "      no_of_words = no_of_words + 1\n",
        "    except:\n",
        "      pass\n",
        "\n",
        "  if no_of_words != 0:\n",
        "    con_emb = sum/no_of_words\n",
        "  else:\n",
        "    con_emb = sum\n",
        "  return con_emb\n",
        "\n",
        "context_embeddings = []\n",
        "sentences = semcor.sents()\n",
        "for sentence in sentences:\n",
        "  context_embeddings.append(get_context_embedding(sentence))"
      ],
      "execution_count": null,
      "outputs": []
    },
    {
      "cell_type": "code",
      "metadata": {
        "id": "4vSU0sU9ALTD",
        "colab": {
          "base_uri": "https://localhost:8080/"
        },
        "outputId": "8fb205f3-640c-495d-b9ec-a7b6f6434d54"
      },
      "source": [
        "tagged_sentences = [[str(c) for c in s] for s in semcor.tagged_sents(tag=\"sem\")]\n",
        "tagged_sentences[0]"
      ],
      "execution_count": null,
      "outputs": [
        {
          "output_type": "execute_result",
          "data": {
            "text/plain": [
              "[\"['The']\",\n",
              " \"(Lemma('group.n.01.group') (NE Fulton County Grand Jury))\",\n",
              " \"(Lemma('state.v.01.say') said)\",\n",
              " \"(Lemma('friday.n.01.Friday') Friday)\",\n",
              " \"['an']\",\n",
              " \"(Lemma('probe.n.01.investigation') investigation)\",\n",
              " \"['of']\",\n",
              " \"(Lemma('atlanta.n.01.Atlanta') Atlanta)\",\n",
              " '[\"\\'s\"]',\n",
              " \"(Lemma('late.s.03.recent') recent)\",\n",
              " \"(Lemma('primary.n.01.primary_election') primary election)\",\n",
              " \"(Lemma('produce.v.04.produce') produced)\",\n",
              " \"['``']\",\n",
              " \"['no']\",\n",
              " \"(Lemma('evidence.n.01.evidence') evidence)\",\n",
              " '[\"\\'\\'\"]',\n",
              " \"['that']\",\n",
              " \"['any']\",\n",
              " \"(Lemma('abnormality.n.04.irregularity') irregularities)\",\n",
              " \"(Lemma('happen.v.01.take_place') took place)\",\n",
              " \"['.']\"]"
            ]
          },
          "metadata": {},
          "execution_count": 54
        }
      ]
    },
    {
      "cell_type": "code",
      "metadata": {
        "id": "GFXzyhr0ALfg",
        "colab": {
          "base_uri": "https://localhost:8080/"
        },
        "outputId": "65edab1e-40be-4e1b-a3f6-d00cf964b0d4"
      },
      "source": [
        "filtered_sentences=[]\n",
        "for sentence in tagged_sentences:\n",
        "  filtered_sentence=[]\n",
        "  for word in sentence:\n",
        "    if not word.startswith('['):\n",
        "      pair = tuple(re.sub(r'[\\(\\)]', '', word).split(' ', 1)[::-1])\n",
        "      filtered_sentence.append(pair)\n",
        "  filtered_sentences.append(filtered_sentence)\n",
        "\n",
        "filtered_sentences[0]"
      ],
      "execution_count": null,
      "outputs": [
        {
          "output_type": "execute_result",
          "data": {
            "text/plain": [
              "[('NE Fulton County Grand Jury', \"Lemma'group.n.01.group'\"),\n",
              " ('said', \"Lemma'state.v.01.say'\"),\n",
              " ('Friday', \"Lemma'friday.n.01.Friday'\"),\n",
              " ('investigation', \"Lemma'probe.n.01.investigation'\"),\n",
              " ('Atlanta', \"Lemma'atlanta.n.01.Atlanta'\"),\n",
              " ('recent', \"Lemma'late.s.03.recent'\"),\n",
              " ('primary election', \"Lemma'primary.n.01.primary_election'\"),\n",
              " ('produced', \"Lemma'produce.v.04.produce'\"),\n",
              " ('evidence', \"Lemma'evidence.n.01.evidence'\"),\n",
              " ('irregularities', \"Lemma'abnormality.n.04.irregularity'\"),\n",
              " ('took place', \"Lemma'happen.v.01.take_place'\")]"
            ]
          },
          "metadata": {},
          "execution_count": 55
        }
      ]
    },
    {
      "cell_type": "code",
      "metadata": {
        "id": "-ETuJMoTCG5F",
        "colab": {
          "base_uri": "https://localhost:8080/"
        },
        "outputId": "a62bd14b-b404-4326-a058-acc2f831950d"
      },
      "source": [
        "!wget -c \"https://s3.amazonaws.com/dl4j-distribution/GoogleNews-vectors-negative300.bin.gz\"\n",
        "\n",
        "#Import necessary modules and load word2vec\n",
        "from gensim.models import KeyedVectors\n",
        "model_w2v = KeyedVectors.load_word2vec_format('GoogleNews-vectors-negative300.bin.gz', binary=True)\n",
        "\n",
        "import nltk\n",
        "nltk.download('wordnet')"
      ],
      "execution_count": null,
      "outputs": [
        {
          "output_type": "stream",
          "name": "stdout",
          "text": [
            "--2021-11-04 08:35:47--  https://s3.amazonaws.com/dl4j-distribution/GoogleNews-vectors-negative300.bin.gz\n",
            "Resolving s3.amazonaws.com (s3.amazonaws.com)... 52.217.196.152\n",
            "Connecting to s3.amazonaws.com (s3.amazonaws.com)|52.217.196.152|:443... connected.\n",
            "HTTP request sent, awaiting response... 416 Requested Range Not Satisfiable\n",
            "\n",
            "    The file is already fully retrieved; nothing to do.\n",
            "\n",
            "[nltk_data] Downloading package wordnet to /root/nltk_data...\n",
            "[nltk_data]   Package wordnet is already up-to-date!\n"
          ]
        },
        {
          "output_type": "execute_result",
          "data": {
            "text/plain": [
              "True"
            ]
          },
          "metadata": {},
          "execution_count": 56
        }
      ]
    },
    {
      "cell_type": "code",
      "metadata": {
        "id": "UPqcuAsvCWRU"
      },
      "source": [
        "def get_senses(phrase, POS=None): #pos=n, v, r, a, s\n",
        "  words = phrase.split(\" \")\n",
        "\n",
        "  if len(words) == 1:\n",
        "    synset = wn.synsets(phrase) \n",
        "    senses = [s.name() for s in synset]\n",
        "\n",
        "  else:\n",
        "    if words[0] == 'NE':\n",
        "      senses = ['group.n.01', 'location.n.01', 'person.n.01']\n",
        "    else:\n",
        "      senses = []\n",
        "      for word in words:\n",
        "        synset = wn.synsets(word)\n",
        "        temp = [s.name() for s in synset]\n",
        "        senses.extend(temp)\n",
        "      comb_word = \"_\".join(words)\n",
        "      comb_sense = wn.synsets(comb_word)\n",
        "      temp2 = [s.name() for s in comb_sense]\n",
        "      senses.extend(temp2)\n",
        "\n",
        "  senses1 = []\n",
        "  if POS!=None:\n",
        "    for se in senses:\n",
        "      se1 = se.split(\".\")\n",
        "      if se1[1]==POS:\n",
        "        senses1.append(se)\n",
        "    return senses1\n",
        "  else:\n",
        "    return senses\n",
        "\n",
        "def get_sense_embedding(senses):\n",
        "  output = {}\n",
        "  # senses = wn.synsets(word)\n",
        "  for sense in senses:\n",
        "    gloss = wn.synset(sense).definition()\n",
        "    gloss_words = gloss.split(\" \")\n",
        "    word_vector_sum = 0\n",
        "    gloss_words_count = 0\n",
        "    for word in gloss_words:\n",
        "      try:\n",
        "        word_vector_sum = word_vector_sum + model_w2v[word]\n",
        "        gloss_words_count = gloss_words_count + 1\n",
        "      except:\n",
        "        pass\n",
        "    try:\n",
        "      sense_embedding = word_vector_sum/gloss_words_count\n",
        "    except ZeroDivisionError:\n",
        "      sense_embedding = np.zeros(300,)\n",
        "\n",
        "    output[sense] = sense_embedding\n",
        "\n",
        "  return output"
      ],
      "execution_count": null,
      "outputs": []
    },
    {
      "cell_type": "code",
      "metadata": {
        "id": "VCYzrYcBFqul",
        "colab": {
          "base_uri": "https://localhost:8080/"
        },
        "outputId": "18a84266-e05d-4efe-c5e3-3742f4608b03"
      },
      "source": [
        "get_senses(\"international conference\")"
      ],
      "execution_count": null,
      "outputs": [
        {
          "output_type": "execute_result",
          "data": {
            "text/plain": [
              "['international.n.01',\n",
              " 'international.a.01',\n",
              " 'external.s.03',\n",
              " 'conference.n.01',\n",
              " 'league.n.01',\n",
              " 'conference.n.03']"
            ]
          },
          "metadata": {},
          "execution_count": 58
        }
      ]
    },
    {
      "cell_type": "code",
      "metadata": {
        "id": "Ta-tSSe2cMbV",
        "colab": {
          "base_uri": "https://localhost:8080/"
        },
        "outputId": "6c7fe671-276f-4572-a62e-a09cff8f6591"
      },
      "source": [
        "from nltk.corpus import wordnet as wn\n",
        "from numpy import dot\n",
        "from numpy.linalg import norm\n",
        "import numpy as np\n",
        "\n",
        "test_data = [[word for (word, _) in sentence] for sentence in filtered_sentences]\n",
        "# test_data = [[\"went\", \"bank\", \"withdraw\", \"some\", \"money\"]]\n",
        "# true_tag_sequences = [[tag for (_, tag) in sentence] for sentence in filtered_sentences]\n",
        "\n",
        "predicted_tags = []\n",
        "index = 0\n",
        "for sentence in test_data:\n",
        "  sentence_tags = []\n",
        "  context_embedding = context_embeddings[index]\n",
        "  index = index + 1\n",
        "  for phrase in sentence:\n",
        "    senses = get_senses(phrase)\n",
        "    sense_emb_list = get_sense_embedding(senses)\n",
        "\n",
        "    best_sense = ''\n",
        "    max_cos_sim = 0\n",
        "    for sense, sense_embedding in sense_emb_list.items():  \n",
        "      cos_sim = dot(sense_embedding, context_embedding)/(norm(sense_embedding)*norm(context_embedding))\n",
        "      if cos_sim > max_cos_sim:\n",
        "        best_sense = sense\n",
        "        max_cos_sim = cos_sim\n",
        "    \n",
        "    if phrase.startswith('NE'):\n",
        "      print(phrase, best_sense)\n",
        "\n",
        "    sentence_tags.append(best_sense)\n",
        "\n",
        "  predicted_tags.append(sentence_tags)\n",
        "\n",
        "predicted_tags"
      ],
      "execution_count": null,
      "outputs": [
        {
          "output_type": "execute_result",
          "data": {
            "text/plain": [
              "[['belong.v.03', 'bank.n.07', 'swallow.v.05', 'some.s.02', 'money.n.03']]"
            ]
          },
          "metadata": {},
          "execution_count": 60
        }
      ]
    },
    {
      "cell_type": "code",
      "metadata": {
        "id": "AZVDkrhMOJow",
        "colab": {
          "base_uri": "https://localhost:8080/"
        },
        "outputId": "6ce485ce-6674-4194-aafa-bf5164e05d34"
      },
      "source": [
        "import nltk\n",
        "nltk.download('stopwords')\n",
        "nltk.download('punkt')\n",
        "nltk.download('averaged_perceptron_tagger')"
      ],
      "execution_count": null,
      "outputs": [
        {
          "output_type": "stream",
          "name": "stdout",
          "text": [
            "[nltk_data] Downloading package stopwords to /root/nltk_data...\n",
            "[nltk_data]   Unzipping corpora/stopwords.zip.\n",
            "[nltk_data] Downloading package punkt to /root/nltk_data...\n",
            "[nltk_data]   Unzipping tokenizers/punkt.zip.\n",
            "[nltk_data] Downloading package averaged_perceptron_tagger to\n",
            "[nltk_data]     /root/nltk_data...\n",
            "[nltk_data]   Unzipping taggers/averaged_perceptron_tagger.zip.\n"
          ]
        },
        {
          "output_type": "execute_result",
          "data": {
            "text/plain": [
              "True"
            ]
          },
          "metadata": {},
          "execution_count": 1
        }
      ]
    },
    {
      "cell_type": "code",
      "metadata": {
        "id": "qemuLS72NvEr",
        "colab": {
          "base_uri": "https://localhost:8080/"
        },
        "outputId": "c18a7753-7d2d-44b5-dec7-21b92d8c488a"
      },
      "source": [
        "import nltk\n",
        "from nltk.corpus import stopwords\n",
        "from nltk.tokenize import word_tokenize, sent_tokenize\n",
        "stop_words = set(stopwords.words('english'))\n",
        "\n",
        "# // Dummy text\n",
        "# txt = \"Sukanya, Rajib and Naba are my good friends. \" \\\n",
        "# \t\"Sukanya is getting married next year. \" \\\n",
        "# \t\"Marriage is a big step in one’s life.\" \\\n",
        "# \t\"It is both exciting and frightening. \" \\\n",
        "# \t\"But friendship is a sacred bond between people.\" \\\n",
        "# \t\"It is a special kind of love between us. \" \\\n",
        "# \t\"Many of you must have tried searching for a friend \"\\\n",
        "# \t\"but never found the right one.\"\n",
        "\n",
        "# txt = \"The school is seeing return of students. \"\n",
        "# txt = 'Elderly with young face increased covid19 risk'\n",
        "txt = 'The old ash tree near the river stood tall and slender'\n",
        "# sent_tokenize is one of instances of\n",
        "# PunktSentenceTokenizer from the nltk.tokenize.punkt module\n",
        "\n",
        "tokenized = sent_tokenize(txt)\n",
        "for i in tokenized:\n",
        "\t\n",
        "\t# Word tokenizers is used to find the words\n",
        "\t# and punctuation in a string\n",
        "\twordsList = nltk.word_tokenize(i)\n",
        "\n",
        "\t# removing stop words from wordList\n",
        "\t# wordsList = [w for w in wordsList if not w in stop_words]\n",
        "\n",
        "\t# Using a Tagger. Which is part-of-speech\n",
        "\t# tagger or POS-tagger.\n",
        "\ttagged = nltk.pos_tag(wordsList)\n",
        "\n",
        "\tprint(tagged)\n"
      ],
      "execution_count": null,
      "outputs": [
        {
          "output_type": "stream",
          "name": "stdout",
          "text": [
            "[('The', 'DT'), ('old', 'JJ'), ('ash', 'NN'), ('tree', 'NN'), ('near', 'IN'), ('the', 'DT'), ('river', 'NN'), ('stood', 'VBD'), ('tall', 'JJ'), ('and', 'CC'), ('slender', 'NN')]\n"
          ]
        }
      ]
    },
    {
      "cell_type": "code",
      "metadata": {
        "colab": {
          "base_uri": "https://localhost:8080/"
        },
        "id": "L0qzLguDG6r7",
        "outputId": "ad512cc6-9c76-4947-d21d-5c6c11aebc98"
      },
      "source": [
        "from nltk.corpus import wordnet as wn\n",
        "from numpy import dot\n",
        "from numpy.linalg import norm\n",
        "import numpy as np\n",
        "\n",
        "sample_sent = \"Water overflowed bank\"\n",
        "test_data = sample_sent.split(\" \")\n",
        "# test_data = [\"school\", \"seeing\", \"return\", \"students\"]\n",
        "ce = get_context_embedding(test_data)\n",
        "sentence_tags = []\n",
        "\n",
        "for i in range(len(test_data)):\n",
        "  senses = get_senses(test_data[i])\n",
        "  sense_emb_list = get_sense_embedding(senses)\n",
        "\n",
        "  best_sense = ''\n",
        "  max_cos_sim = 0\n",
        "  for sense, sense_embedding in sense_emb_list.items():  \n",
        "    cos_sim = dot(sense_embedding,ce)/(norm(sense_embedding)*norm(ce))\n",
        "    if cos_sim > max_cos_sim:\n",
        "      best_sense = sense\n",
        "      max_cos_sim = cos_sim\n",
        "\n",
        "  sentence_tags.append(best_sense)\n",
        "\n",
        "for i in range(len(sentence_tags)):\n",
        "  print(test_data[i], sentence_tags[i], \"\\t-\\t\", wn.synset(sentence_tags[i]).definition())"
      ],
      "execution_count": null,
      "outputs": [
        {
          "output_type": "stream",
          "name": "stdout",
          "text": [
            "Water body_of_water.n.01 \t-\t the part of the earth's surface covered with water (such as a river or lake or ocean)\n",
            "overflowed bubble_over.v.01 \t-\t overflow with a certain feeling\n",
            "bank deposit.v.02 \t-\t put into a bank account\n"
          ]
        }
      ]
    },
    {
      "cell_type": "code",
      "metadata": {
        "id": "WFNzBmPtEhi5"
      },
      "source": [
        "from nltk.corpus import wordnet as wn\n",
        "from numpy import dot\n",
        "from numpy.linalg import norm\n",
        "import numpy as np\n",
        "\n",
        "ce1 = get_context_embedding([\"went\", \"bank\", \"withdraw\", \"some\", \"money\"])\n",
        "ce2 = get_context_embedding([\"went\", \"bank\", \"have\", \"bath\", \"river\"])\n",
        "ce3 = get_context_embedding([\"school\", \"seeing\", \"return\", \"students\"])\n",
        "ce4 = get_context_embedding([\"school\", \"fish\", \"swimming\", \"past\", \"island\"])\n",
        "\n",
        "sentence = \"\"\n",
        "ce5 = get_context_embedding([])\n",
        "\n",
        "# s = get_senses(\"bank\", 'n')\n",
        "s = get_senses(\"school\", 'n')\n",
        "# s = ['bank.n.01', 'depository_financial_institution.n.01', 'bank.n.03', 'bank.n.04', 'bank.n.05', 'bank.n.06', 'bank.n.07', 'savings_bank.n.02', 'bank.n.09', 'bank.n.10']\n",
        "# s = ['school.n.01', 'school.n.02', 'school.n.03', 'school.n.04', 'school.n.05', 'school.n.06', 'school.n.07']\n",
        "se = get_sense_embedding(s)\n",
        "\n",
        "best_sense = ''\n",
        "max_cos_sim = 0\n",
        "for sense, sense_embedding in se.items():  \n",
        "    cos_sim = dot(sense_embedding, ce4)/(norm(sense_embedding)*norm(ce4))\n",
        "    if cos_sim > max_cos_sim:\n",
        "      best_sense = sense\n",
        "      max_cos_sim = cos_sim\n",
        "\n",
        "print(s)\n",
        "print(best_sense)\n",
        "print(wn.synset(best_sense).definition())\n",
        "print(wn.synset(best_sense).examples())"
      ],
      "execution_count": null,
      "outputs": []
    },
    {
      "cell_type": "code",
      "metadata": {
        "id": "VyONtp9gD1DE"
      },
      "source": [
        "true_tag_sequences = [[tag for (_, tag) in sentence] for sentence in filtered_sentences]\n",
        "\n",
        "true_tag_sequences[59]\n",
        "\n",
        "actual_tags = []\n",
        "for sequence in true_tag_sequences:\n",
        "  tag_seq = []\n",
        "  for tag in sequence:\n",
        "    if tag.startswith(\"Lemma'\"):\n",
        "      x = tag[6:].split(\".\")\n",
        "      tag_seq.append('.'.join(x[:-1]))\n",
        "    else:\n",
        "      tag_seq.append(tag)\n",
        "  actual_tags.append(tag_seq)\n",
        "#   test_sentences.append(test_sentence)\n",
        "\n",
        "len(actual_tags)"
      ],
      "execution_count": null,
      "outputs": []
    },
    {
      "cell_type": "code",
      "metadata": {
        "id": "NuqbC9M0IGBL"
      },
      "source": [
        "from sklearn.metrics import classification_report\n",
        "report = classification_report(actual_tags, predicted_tags)\n",
        "print(report)"
      ],
      "execution_count": null,
      "outputs": []
    },
    {
      "cell_type": "code",
      "metadata": {
        "id": "pzv-5XzpJEzJ"
      },
      "source": [
        "def calculate_precision_recall_F1(predicted_tags, actual_tags):\n",
        "  true_positives = 0\n",
        "  for i in range(len(actual_tags)):                 # i - sentence\n",
        "    for j in range(len(actual_tags[i])):            # j - tag\n",
        "      if(predicted_tags[i][j] == actual_tags[i][j]) and (predicted_tags[i][j] != ''):\n",
        "        true_positives = true_positives + 1\n",
        "\n",
        "  total_predicted_tags = 0\n",
        "  for sentence in predicted_tags:\n",
        "    for tag in sentence:\n",
        "      if(tag != ''):\n",
        "        total_predicted_tags += 1\n",
        "\n",
        "  total_actual_tags = 0\n",
        "  for sentence in actual_tags:\n",
        "    for tag in sentence:\n",
        "      if(tag != ''):\n",
        "        total_actual_tags += 1\n",
        "\n",
        "  precision = true_positives/total_predicted_tags\n",
        "  recall = true_positives/total_actual_tags\n",
        "  F1_score = 2*precision*recall/(precision+recall)\n",
        "\n",
        "  return precision, recall, F1_score\n",
        "\n",
        "calculate_precision_recall_F1(predicted_tags, actual_tags)"
      ],
      "execution_count": null,
      "outputs": []
    },
    {
      "cell_type": "code",
      "metadata": {
        "id": "Rjr3KnQPDeAT"
      },
      "source": [
        "tags = set()\n",
        "count = 0\n",
        "for sentence in filtered_sentences:\n",
        "  for word, tag in sentence:\n",
        "    if word.startswith('NE'):\n",
        "      # print(word, tag)\n",
        "      tags.add(tag)\n",
        "      \n",
        "    if tag.startswith('NE'):\n",
        "      # print(word)\n",
        "      count += 1\n",
        "\n",
        "print(count)"
      ],
      "execution_count": null,
      "outputs": []
    },
    {
      "cell_type": "code",
      "metadata": {
        "id": "c2VTo90IDEhE"
      },
      "source": [
        "tags = set()\n",
        "for sentence in filtered_sentences:\n",
        "  for word, tag in sentence:\n",
        "    words = word.split(\" \")\n",
        "    if len(words) > 1 and words[0] != 'NE':\n",
        "      print(words, tag)\n",
        "tags"
      ],
      "execution_count": null,
      "outputs": []
    },
    {
      "cell_type": "code",
      "metadata": {
        "id": "gBpU4-I-iMg4"
      },
      "source": [
        "pos_tags = set()\n",
        "for sentence in filtered_sentences:\n",
        "  for word, tag in sentence:\n",
        "    tag.split(\" \")"
      ],
      "execution_count": null,
      "outputs": []
    },
    {
      "cell_type": "code",
      "metadata": {
        "id": "gfUmbsiIymqk"
      },
      "source": [
        "import nltk\n",
        "nltk.download('wordnet')\n",
        "\n",
        "from nltk.corpus import wordnet as wn\n",
        "wn.synset('in_the_first_place.r.02').examples()\n",
        "\n",
        "wn.synsets('black')\n",
        "print(wn.synset(\"black.a.02\").definition())\n",
        "print(wn.synset(\"black.a.02\").examples())\n",
        "\n",
        "# model_w2v['NE']"
      ],
      "execution_count": null,
      "outputs": []
    }
  ]
}